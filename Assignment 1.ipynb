{
 "cells": [
  {
   "cell_type": "markdown",
   "id": "ba7c1899-afb6-4880-a007-c801dbaaecf9",
   "metadata": {},
   "source": [
    "1. Who developed Python Programming Language?\n",
    "Ans- It was developed by Guido Van Rossum in 1989."
   ]
  },
  {
   "cell_type": "markdown",
   "id": "c064500e-bad4-45cf-ab62-2ed9eac3ec76",
   "metadata": {},
   "source": [
    "2. Which type of Programming does Python support?\n",
    "Ans- Python Support object oriented, structured and functional programming."
   ]
  },
  {
   "cell_type": "markdown",
   "id": "abf3dc46-5984-425f-843c-42d3e5c1d759",
   "metadata": {},
   "source": [
    "3. Is Python case senstive when dealing with identifiers?\n",
    "Ans- YEs, Python is a case- sensitive language. It treats uppercase and lowercase characters differently. ex:-a=\"darshan\" A=\"Piplodiya\". Python take these two variables seperately. "
   ]
  },
  {
   "cell_type": "markdown",
   "id": "8d0f226b-f9e0-4af6-83d8-93d6e8957fb1",
   "metadata": {},
   "source": [
    "4. What is the correct extension of Python file?\n",
    "Ans- The correct extension of Python file is .py & .ipynb"
   ]
  },
  {
   "cell_type": "markdown",
   "id": "8a890876-48f3-4315-bd0f-b417a771c188",
   "metadata": {},
   "source": [
    "5. Is Python code compiled or interpreted?\n",
    "Ans- Python code is compiled and interpreted. when we run a Python code, it is first compiled and then interpreted line by line. "
   ]
  },
  {
   "cell_type": "markdown",
   "id": "a2930bb5-2c73-4b8a-86ce-5acf73f0b4f7",
   "metadata": {},
   "source": [
    "6. Name a few blocks of code used to define in Python language?\n",
    "Ans-a=10\n",
    "if a<10:\n",
    "   print(\"Value of a\")\n",
    "print(\"a is int\")\n",
    "\n",
    " in above code the fist statement is the part of if statement.while the second print is the different block. so indentation is required for indicating what block of code a statement belongs to."
   ]
  },
  {
   "cell_type": "markdown",
   "id": "5f02e134-d53c-409d-8575-4bf16948970a",
   "metadata": {},
   "source": [
    "7. State a character used to give single-line comments in Python?\n",
    "Ans- Hash character(#) is used to give single line comments in Python. Fr multi line \"\"\"    \"\"\" is used. "
   ]
  },
  {
   "cell_type": "markdown",
   "id": "21024245-b778-4fc7-8fbf-455f2a468545",
   "metadata": {},
   "source": [
    "8. Mention functions which can help us to find the version of python that we are corrently woking on?\n",
    "Ans- In command prompt write python, the version which are we using is show."
   ]
  },
  {
   "cell_type": "markdown",
   "id": "2148d0a6-a907-454f-abe7-fe194880e120",
   "metadata": {},
   "source": [
    "9. Python supports the creation of anonymous function at runtime, using a construct called\n",
    "Ans-  \"lambda\""
   ]
  },
  {
   "cell_type": "markdown",
   "id": "19096b03-6e96-4cd2-b018-777a81f6b127",
   "metadata": {},
   "source": [
    "10. What does PIP stan for Python?\n",
    "Ans- PIP is a package managment system used to install and manage software packages written in python."
   ]
  },
  {
   "cell_type": "markdown",
   "id": "b0b5eab6-7797-45a1-914b-18f7e817942c",
   "metadata": {},
   "source": [
    "11. Mention a few built-in function in Python?\n",
    "Ans- print() , int(), float(), str(), input(),list(),tuple(),set()"
   ]
  },
  {
   "cell_type": "markdown",
   "id": "ede5ef9b-0ac4-4c29-bcb4-f96c0e8aa372",
   "metadata": {},
   "source": [
    "12. What is the maximum possible length of an ientifier in Python?\n",
    "Ans- An ientifier can have a maximum length of 79 character in Python."
   ]
  },
  {
   "cell_type": "markdown",
   "id": "88700362-fe53-485d-8db1-a4d7ffaa54b2",
   "metadata": {},
   "source": [
    "13. What are the benefits of using Python?\n",
    "Ans- Python is one of the top three programming languages in the world. It can be used in Data science, web evelopment, scientific and mathematical computing, finance and trading, game development. It is also easy to unedrstand."
   ]
  },
  {
   "cell_type": "markdown",
   "id": "1f2e4435-c6b2-4f60-8dc4-ceb2c694f99d",
   "metadata": {},
   "source": [
    "14.How is memory managed in Python?\n",
    "Ans- Memory in Python is managed by Python private heap space. All Python objects and data structures are located in a private heap. This private heap is taken care of by Python Interpreter itself, and a programmer doesn't have access to this private heap."
   ]
  },
  {
   "cell_type": "markdown",
   "id": "7784f2d9-3eda-4267-933a-1bb7bef1e87d",
   "metadata": {},
   "source": [
    "15. How to install Python on windodws and set path variables?\n",
    "Ans- By the official website of Python, we can download the latest version of python."
   ]
  },
  {
   "cell_type": "markdown",
   "id": "5033a360-a4b7-4060-ba51-46a28d59b5ec",
   "metadata": {},
   "source": [
    "16. Is indentaion reqired in Python?\n",
    "Ans-Indentation is mandatory in python to define the blocks of statements"
   ]
  }
 ],
 "metadata": {
  "kernelspec": {
   "display_name": "Python 3 (ipykernel)",
   "language": "python",
   "name": "python3"
  },
  "language_info": {
   "codemirror_mode": {
    "name": "ipython",
    "version": 3
   },
   "file_extension": ".py",
   "mimetype": "text/x-python",
   "name": "python",
   "nbconvert_exporter": "python",
   "pygments_lexer": "ipython3",
   "version": "3.10.8"
  }
 },
 "nbformat": 4,
 "nbformat_minor": 5
}
